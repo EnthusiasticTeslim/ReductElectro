{
 "cells": [
  {
   "cell_type": "code",
   "execution_count": 1,
   "metadata": {},
   "outputs": [
    {
     "name": "stdout",
     "output_type": "stream",
     "text": [
      "Running on local URL:  http://127.0.0.1:7860\n",
      "IMPORTANT: You are using gradio version 3.41.2, however version 4.29.0 is available, please upgrade.\n",
      "--------\n",
      "\n",
      "To create a public link, set `share=True` in `launch()`.\n"
     ]
    },
    {
     "data": {
      "text/html": [
       "<div><iframe src=\"http://127.0.0.1:7860/\" width=\"100%\" height=\"500\" allow=\"autoplay; camera; microphone; clipboard-read; clipboard-write;\" frameborder=\"0\" allowfullscreen></iframe></div>"
      ],
      "text/plain": [
       "<IPython.core.display.HTML object>"
      ]
     },
     "metadata": {},
     "output_type": "display_data"
    },
    {
     "data": {
      "text/plain": []
     },
     "execution_count": 1,
     "metadata": {},
     "output_type": "execute_result"
    }
   ],
   "source": [
    "import gradio as gr\n",
    "\n",
    "def greet(name, intensity):\n",
    "    return \"Hello, \" + name + \"!\" * int(intensity)\n",
    "\n",
    "demo = gr.Interface(\n",
    "    fn=greet,\n",
    "    inputs=[\"text\", \"slider\"],\n",
    "    outputs=[\"text\"],\n",
    ")\n",
    "\n",
    "demo.launch()\n"
   ]
  },
  {
   "cell_type": "code",
   "execution_count": 2,
   "metadata": {},
   "outputs": [],
   "source": [
    "import numpy as np\n",
    "import pymatgen.core as pmg\n",
    "\n",
    "def cu_fraction(Sn_percent):\n",
    "    if Sn_percent <= 1:\n",
    "        Cu = 1 - Sn_percent\n",
    "    else:\n",
    "        raise ValueError('Sn percent must be less than or equal to 1')\n",
    "    return Cu\n",
    "\n",
    "def get_weight(Sn_percent):\n",
    "    # create the structure\n",
    "    if Sn_percent <= 1:\n",
    "        base = f'Cu{1-Sn_percent}Sn{Sn_percent}'\n",
    "        comp = pmg.Composition(base)\n",
    "    else:\n",
    "        raise ValueError('Sn percent must be less than or equal to 1')\n",
    "    return comp.weight\n",
    "\n",
    "def ethane(Sn_percent, Pot, weight, pH, Cu_percent, cDen):\n",
    "    c0 = -0.004914360452691078\n",
    "    a0 = -0.2066222976907354\n",
    "    a1 = 0.5316870806624426\n",
    "    a2 = -0.3948118857569158\n",
    "    a3 = 0.7149525683414504\n",
    "    a4 = 0.620296271014388\n",
    "    a5 = -0.3429464114810739\n",
    "    result = c0 + a0 * abs((Sn_percent / Pot) - (weight**3)) + a1 * abs((pH * Pot) - np.sqrt(cDen)) + a2 * ((pH - Pot) * (Cu_percent / cDen)) + a3 * ((Cu_percent / Pot) - (Cu_percent / pH)) + a4 * ((Cu_percent**6) * (Cu_percent - pH)) + a5 * (np.cbrt(Sn_percent) - np.cos(Cu_percent))\n",
    "\n",
    "    return result if result > 0 else 0\n",
    "\n",
    "def carbonmono(Sn, Cu, Pot, pH, cDen):\n",
    "    a0 = 3.277493220571178e-01\n",
    "    a1 = -5.598909495281141e-01\n",
    "    a2 = 9.546056163094251e-01\n",
    "    a3 = -2.895967612298517e+00\n",
    "    a4 = 1.204578438049861e-01\n",
    "    a5 = -3.447184433917704e-01\n",
    "    c0 = 1.886998352450209e-01\n",
    "    \n",
    "    ans = c0 + a0 * (np.abs(np.sqrt(Sn) - np.abs(Cu - Pot))) + a1 * (np.abs((pH - cDen) - (Pot**6))) + a2 * (np.abs((cDen / pH) - np.cos(Pot))) + a3 * ((Sn**6) * (Cu * cDen)) + a4 * (np.abs((Cu / cDen) - (Cu + Pot))) + a5 * (np.abs(np.sqrt(Sn) - (cDen / pH)))\n",
    "    return ans if ans > 0 else 0\n",
    "\n",
    "\n",
    "def ethanol(Cu, weight, Pot, cDen, Sn, pH):\n",
    "    c0 = 2.801280473445035e-01\n",
    "    a0 = 3.516697023069468e-01\n",
    "    a1 = 3.687251845185032e-01\n",
    "    a2 = -5.970932191479567e-01\n",
    "    a3 = -7.073091663701121e-01\n",
    "    a4 = -1.018106173107204e-01\n",
    "    a5 = -2.343047991878564e-01\n",
    "    \n",
    "    ans = c0 + a0 * ((abs(Sn - cDen)) * (abs(Cu - cDen))) + a1 * (abs((np.exp(-1.0 * Pot)) - (Cu ** 6))) + a2 * (abs(np.cbrt(Sn) - (weight ** 2))) + a3 * (abs((cDen / Pot) - (pH * Pot))) + a4 * (abs((Cu / cDen) - (weight + Pot))) + a5 * (abs((Cu ** 6) - Pot))\n",
    "    return ans if ans > 0 else 0\n",
    "\n",
    "def formate(weight, Sn_percent, Cu_percent, Pot, cDen, pH):\n",
    "    a0 = -0.1001127428547696\n",
    "    a1 = -0.09893185561627102\n",
    "    a2 = -0.2577044948418116\n",
    "    a3 = 0.3546914036535919\n",
    "    a4 = -0.2754312170894154\n",
    "    a5 = -1.318852499278862\n",
    "    c0 = 0.8093928041557034\n",
    "    \n",
    "    ans = c0 + a0 * np.abs(np.abs(Cu_percent - cDen) - np.sqrt(Cu_percent)) + a1 * np.abs((pH * cDen) - np.abs(Cu_percent - Sn_percent)) + a2 * np.abs((Cu_percent**6) - np.exp(-1.0 * weight)) + a3 * np.abs(np.cbrt(Sn_percent) - (weight**2)) + a4 * ((Pot**6)**6) + a5 * np.abs((weight * Sn_percent) - np.abs(Cu_percent - weight))\n",
    "\n",
    "    return ans if ans > 0 else 0\n",
    "\n",
    "def hydrogen(Sn, Cu, Pot, pH, cDen, weight):\n",
    "    a0 = 1.863778473177432e-02\n",
    "    a1 = 5.910962254915521e+00\n",
    "    a2 = 4.228183481178416e-02\n",
    "    a3 = 7.127487610097909e-01\n",
    "    a4 = -2.265716650451252e-01\n",
    "    a5 = 1.669467979327007e-01\n",
    "    c0 = 2.992789562320270e-02\n",
    "\n",
    "    ans = c0 + a0 * np.abs((cDen**3) - np.abs(Cu - weight)) + a1 * (Sn**2 * Cu**6) + a2 * np.abs((Pot / pH) - np.cbrt(weight)) + a3 * np.abs(np.sin(cDen) - (Pot * cDen)) + a4 * (np.cbrt(Sn) + (Cu - Pot)) + a5 * (np.exp(-1.0 * pH) + cDen**6)\n",
    "   \n",
    "    return ans if ans > 0 else 0\n",
    "\n",
    "def calculate_outputs(Sn_percent, Pot, cDen, pH):\n",
    "    Cu_percent = cu_fraction(Sn_percent) / 1.00 # max Cu fraction\n",
    "    print(f'Weight of the structure: {get_weight(Sn_percent)}')\n",
    "    weight = get_weight(Sn_percent) / 118.71 # max weight of the structure\n",
    "\n",
    "    Pot /= 4.70 # max potential\n",
    "    pH /= 14.05 # max pH\n",
    "    cDen /= 450.00 # max current density\n",
    "    \n",
    "    get_ethane = ethane(Sn_percent=Sn_percent, Pot=Pot, weight=weight, pH=pH, Cu_percent=Cu_percent, cDen=cDen)\n",
    "    get_carbonmono = carbonmono(Sn=Sn_percent, Cu=Cu_percent, Pot=Pot, pH=pH, cDen=cDen)\n",
    "    get_ethanol = ethanol(Cu=Cu_percent, weight=weight, Pot=Pot, cDen=cDen, Sn=Sn_percent, pH=pH)\n",
    "    get_formate = formate(weight=weight, Sn_percent=Sn_percent, Cu_percent=Cu_percent, Pot=Pot, cDen=cDen, pH=pH)\n",
    "    get_hydrogen = hydrogen(Sn=Sn_percent, Cu=Cu_percent, Pot=Pot, pH=pH, cDen=cDen, weight=weight)\n",
    "\n",
    "    \n",
    "    return {\n",
    "        'C2H4 FE': get_ethane,\n",
    "        'CO FE ': get_carbonmono,\n",
    "        'Ethanol FE': get_ethanol,\n",
    "        'Formate FE': get_formate,\n",
    "        'H2 FE': get_hydrogen\n",
    "\n",
    "    }\n"
   ]
  },
  {
   "cell_type": "code",
   "execution_count": 3,
   "metadata": {},
   "outputs": [
    {
     "data": {
      "text/plain": [
       "<function __main__.ethane(Sn_percent, Pot, weight, pH, Cu_percent, cDen)>"
      ]
     },
     "execution_count": 3,
     "metadata": {},
     "output_type": "execute_result"
    }
   ],
   "source": [
    "ethane"
   ]
  },
  {
   "cell_type": "code",
   "execution_count": 4,
   "metadata": {},
   "outputs": [],
   "source": [
    "# cDen      150.00\n",
    "# Pot         3.50\n",
    "# Sn %        1.00\n",
    "# pH         14.05\n",
    "# weight    118.71\n",
    "# Cu %        0.00\n",
    "# C2H4        0.00\n",
    "# CO          0.23\n",
    "# H2          0.12\n",
    "# EtoH        0.00\n",
    "# FORM        0.61\n",
    "# Name: 0, dtype: float64"
   ]
  },
  {
   "cell_type": "code",
   "execution_count": 5,
   "metadata": {},
   "outputs": [],
   "source": [
    "# cDen      450.00\n",
    "# Pot         4.70\n",
    "# Sn %        1.00\n",
    "# pH         14.05\n",
    "# weight    118.71\n",
    "# Cu %        1.00"
   ]
  },
  {
   "cell_type": "code",
   "execution_count": 6,
   "metadata": {},
   "outputs": [],
   "source": [
    "# cDen      150.00000\n",
    "# Pot         3.00000\n",
    "# Sn %        0.03000\n",
    "# pH         14.05000\n",
    "# weight     65.20092\n",
    "# Cu %        0.97000"
   ]
  },
  {
   "cell_type": "code",
   "execution_count": 7,
   "metadata": {},
   "outputs": [
    {
     "data": {
      "text/plain": [
       "1.3211217492728715"
      ]
     },
     "execution_count": 7,
     "metadata": {},
     "output_type": "execute_result"
    }
   ],
   "source": [
    "ethane(Sn_percent=1.0/1.0, Pot=3.50/4.70, weight=118.71/118.71, pH=14.05/14.05, Cu_percent=0/1.0, cDen=150/450)*100"
   ]
  },
  {
   "cell_type": "code",
   "execution_count": 8,
   "metadata": {},
   "outputs": [
    {
     "data": {
      "text/plain": [
       "0.05219688270207222"
      ]
     },
     "execution_count": 8,
     "metadata": {},
     "output_type": "execute_result"
    }
   ],
   "source": [
    "ethane(Sn_percent=0.03/1.0, Pot=3.0/4.70, weight=65.20092/118.71, pH=14.05/14.05, Cu_percent=0.97/1.0, cDen=150/450)"
   ]
  },
  {
   "cell_type": "code",
   "execution_count": 9,
   "metadata": {},
   "outputs": [
    {
     "data": {
      "text/plain": [
       "1.3211505657878861"
      ]
     },
     "execution_count": 9,
     "metadata": {},
     "output_type": "execute_result"
    }
   ],
   "source": [
    "ethane(Sn_percent=1, Pot=0.744681, weight=1.000000, pH=1.0, Cu_percent=0, cDen=0.333333)*100"
   ]
  },
  {
   "cell_type": "code",
   "execution_count": 10,
   "metadata": {},
   "outputs": [],
   "source": [
    "# cDen\tPot\t Sn %\tpH\t    weight\tCu %\tC2H4\tCO\tH2\tEtoH\tFORM\n",
    "# 150\t3.5\t 1.00\t14.05\t118.71000\t0.00\t0.00\t0.23\t0.12\t0.00\t0.61"
   ]
  },
  {
   "cell_type": "code",
   "execution_count": 11,
   "metadata": {},
   "outputs": [
    {
     "name": "stdout",
     "output_type": "stream",
     "text": [
      "Weight of the structure: 118.71 amu\n"
     ]
    },
    {
     "data": {
      "text/plain": [
       "{'C2H4 FE': 0.013211217492728716,\n",
       " 'CO FE ': 0.23821659074064278,\n",
       " 'Ethanol FE': 0,\n",
       " 'Formate FE': 0.6152563584332088,\n",
       " 'H2 FE': 0.11875213553686675}"
      ]
     },
     "execution_count": 11,
     "metadata": {},
     "output_type": "execute_result"
    }
   ],
   "source": [
    "calculate_outputs(Sn_percent=1.0, Pot=3.5, cDen=150, pH=14.05)"
   ]
  }
 ],
 "metadata": {
  "kernelspec": {
   "display_name": "MatML",
   "language": "python",
   "name": "python3"
  },
  "language_info": {
   "codemirror_mode": {
    "name": "ipython",
    "version": 3
   },
   "file_extension": ".py",
   "mimetype": "text/x-python",
   "name": "python",
   "nbconvert_exporter": "python",
   "pygments_lexer": "ipython3",
   "version": "3.8.17"
  }
 },
 "nbformat": 4,
 "nbformat_minor": 2
}
